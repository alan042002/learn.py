{
  "nbformat": 4,
  "nbformat_minor": 0,
  "metadata": {
    "colab": {
      "name": "TASK 3.ipynb",
      "provenance": [],
      "include_colab_link": true
    },
    "kernelspec": {
      "name": "python3",
      "display_name": "Python 3"
    },
    "language_info": {
      "name": "python"
    }
  },
  "cells": [
    {
      "cell_type": "markdown",
      "metadata": {
        "id": "view-in-github",
        "colab_type": "text"
      },
      "source": [
        "<a href=\"https://colab.research.google.com/github/alan042002/learn.py/blob/main/TASK_3.ipynb\" target=\"_parent\"><img src=\"https://colab.research.google.com/assets/colab-badge.svg\" alt=\"Open In Colab\"/></a>"
      ]
    },
    {
      "cell_type": "markdown",
      "metadata": {
        "id": "z20IIB0eUQMN"
      },
      "source": [
        "1 - Write a program which takes a number as input from the user and check whether the number is odd or even.If odd print the number is odd if not print it is even."
      ]
    },
    {
      "cell_type": "code",
      "metadata": {
        "id": "dVgGJ-wTVRit",
        "outputId": "92fcf89b-3c3a-40ca-f4be-be0b5378a23e",
        "colab": {
          "base_uri": "https://localhost:8080/"
        }
      },
      "source": [
        "#please enter your answer below this line\n",
        "a=int(input(\"Enter the number:\"))\n",
        "if a%2==1:\n",
        "    print(\"number is odd\")\n",
        "else:\n",
        "    print(\"number is even\")"
      ],
      "execution_count": 18,
      "outputs": [
        {
          "output_type": "stream",
          "text": [
            "Enter the number:7\n",
            "number is odd\n"
          ],
          "name": "stdout"
        }
      ]
    },
    {
      "cell_type": "markdown",
      "metadata": {
        "id": "7778XD8PVblj"
      },
      "source": [
        "2 -Write a program to find the largest among three numbers and print the largest number."
      ]
    },
    {
      "cell_type": "code",
      "metadata": {
        "id": "m0tUOkOFWR-d",
        "outputId": "10bdb831-81ad-46c5-8e77-f036bf51df90",
        "colab": {
          "base_uri": "https://localhost:8080/"
        }
      },
      "source": [
        "a=int(input(\"enter no a:\"))\n",
        "b=int(input(\"enter no b :\"))\n",
        "c=int(input(\"enter no c:\"))\n",
        "if a>b and a>c:\n",
        "    print(\"The largest number is\",a)\n",
        "elif b>a and b>c:\n",
        "    print(\"The largest number is\",b)\n",
        "else:\n",
        "    print(\"The largest number is\",c)"
      ],
      "execution_count": 17,
      "outputs": [
        {
          "output_type": "stream",
          "text": [
            "enter no a:8\n",
            "enter no b :3\n",
            "enter no c:5\n",
            "The largest number is 8\n"
          ],
          "name": "stdout"
        }
      ]
    },
    {
      "cell_type": "markdown",
      "metadata": {
        "id": "Jg2Ns4OQWaJy"
      },
      "source": [
        "3 -Write a function to prompt for a score between 0.0 and 1.0.\n",
        "\n",
        "    If the score is out of range, print an error.\n",
        "    If the score is between 0.0 and 1.0, print a grade using the following table:\n",
        "    Score Grade\n",
        "             Score\tGrade\n",
        "            >= 0.9\tA\n",
        "            >= 0.8\tB\n",
        "            >= 0.7\tC\n",
        "            >= 0.6\tD\n",
        "             < 0.6\tF\n",
        "If the user enters a value out of range, print a suitable error message and exit. For the test, enter a score of 0.85."
      ]
    },
    {
      "cell_type": "code",
      "metadata": {
        "id": "6DLbGe6XXZPx",
        "outputId": "8ac5b8a4-ecdf-4a61-a198-58a2a131222b",
        "colab": {
          "base_uri": "https://localhost:8080/"
        }
      },
      "source": [
        "s= float(input(\"Enter  betwen 0.0and 1.0 : \"))\n",
        "if s>=0.9 and s<1.0 :\n",
        "    print(\"grade A\")\n",
        "elif s>=0.8 and s<.9:\n",
        "    print(\"grade B\")\n",
        "elif s>=0.7  and s<0.8:\n",
        "    print(\"grade C\")\n",
        "elif s>=0.6 and s<0.7:\n",
        "    print(\"grade D\")\n",
        "elif s<0.6:\n",
        "    print(\"grade F\")\n",
        "else :\n",
        "    print(\"error \")"
      ],
      "execution_count": 16,
      "outputs": [
        {
          "output_type": "stream",
          "text": [
            "Enter  betwen 0.0and 1.0 : .85\n",
            "grade B\n"
          ],
          "name": "stdout"
        }
      ]
    },
    {
      "cell_type": "markdown",
      "metadata": {
        "id": "-o0scDq7WkVT"
      },
      "source": [
        ""
      ]
    }
  ]
}