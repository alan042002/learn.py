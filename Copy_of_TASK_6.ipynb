{
  "nbformat": 4,
  "nbformat_minor": 0,
  "metadata": {
    "colab": {
      "name": "Copy of TASK 6.ipynb",
      "provenance": [],
      "include_colab_link": true
    },
    "kernelspec": {
      "name": "python3",
      "display_name": "Python 3"
    },
    "language_info": {
      "name": "python"
    }
  },
  "cells": [
    {
      "cell_type": "markdown",
      "metadata": {
        "id": "view-in-github",
        "colab_type": "text"
      },
      "source": [
        "<a href=\"https://colab.research.google.com/github/alan042002/learn.py/blob/main/Copy_of_TASK_6.ipynb\" target=\"_parent\"><img src=\"https://colab.research.google.com/assets/colab-badge.svg\" alt=\"Open In Colab\"/></a>"
      ]
    },
    {
      "cell_type": "markdown",
      "metadata": {
        "id": "2aT_QhgIny6V"
      },
      "source": [
        "1. Write a Python program to find those numbers which are divisible by 7 and multiple of 11, between 1000 and 2000 (both included)."
      ]
    },
    {
      "cell_type": "code",
      "metadata": {
        "id": "KlFG2BFZoEEU"
      },
      "source": [
        "for i in range(1000,2000):\n",
        "     if i%7==0 and i%11==0:\n",
        "          print(\"  \",i)#please enter your answer below this line"
      ],
      "execution_count": null,
      "outputs": []
    },
    {
      "cell_type": "markdown",
      "metadata": {
        "id": "ZesHXUMboLu7"
      },
      "source": [
        "2. Write a program to print this pattern\n",
        "\n",
        "           #\n",
        "          ## \n",
        "         ###"
      ]
    },
    {
      "cell_type": "code",
      "metadata": {
        "id": "64-aUjWbohqz"
      },
      "source": [
        "#please enter your answer below this line"
      ],
      "execution_count": null,
      "outputs": []
    },
    {
      "cell_type": "markdown",
      "metadata": {
        "id": "6ZepaaI-ow6W"
      },
      "source": [
        "3. list=[apple, orange, apple, banana]\n",
        ". Replace all the apple in the list with grapes using for loop"
      ]
    },
    {
      "cell_type": "code",
      "metadata": {
        "id": "D7UOyf_6o6Ax"
      },
      "source": [
        "x =['apple', 'orange', 'apple','banana']\n",
        "x=['grapes' if i=='apple'else i for i in x]\n",
        "print (x)#please enter your answer below this line"
      ],
      "execution_count": null,
      "outputs": []
    }
  ]
}